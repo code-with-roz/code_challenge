{
 "cells": [
  {
   "cell_type": "code",
   "execution_count": 7,
   "metadata": {},
   "outputs": [],
   "source": [
    "#  Implement the function class_grades, which accepts all students in a school and returns all classes in the school, together with their median grades\n",
    "#  The function should return a two dimensional list, where the keys are the class names and the values are the median grades\n",
    "import numpy as np\n",
    "from statistics import median\n",
    "\n",
    "students = [['Jane', 'A', 10], ['John', 'B', 12], ['Jill', 'A', 11], ['Jack', 'B', 12], ['Joe', 'A', 9], ['Jenny', 'B', 10]]\n",
    "\n",
    "def class_grades(students):\n",
    "    # create list of classes and grades\n",
    "    classes = []\n",
    "    grades = []\n",
    "    for student in students:\n",
    "        classes.append(student[1])\n",
    "        grades.append(student[2])\n",
    "    # create list of unique classes\n",
    "    unique_classes = []\n",
    "    for c in classes:\n",
    "        if c not in unique_classes:\n",
    "            unique_classes.append(c)\n",
    "    # create dictionary of classes and grades\n",
    "    class_grades = []\n",
    "    for c in unique_classes:\n",
    "        class_grades.append([c, median([grades[i] for i in range(len(classes)) if classes[i] == c])])\n",
    "    return class_grades\n",
    "\n"
   ]
  },
  {
   "cell_type": "code",
   "execution_count": 8,
   "metadata": {},
   "outputs": [
    {
     "data": {
      "text/plain": [
       "[['A', 10], ['B', 12]]"
      ]
     },
     "execution_count": 8,
     "metadata": {},
     "output_type": "execute_result"
    }
   ],
   "source": [
    "class_grades(students)"
   ]
  }
 ],
 "metadata": {
  "kernelspec": {
   "display_name": "Python 3.10.8 ('myenv': venv)",
   "language": "python",
   "name": "python3"
  },
  "language_info": {
   "codemirror_mode": {
    "name": "ipython",
    "version": 3
   },
   "file_extension": ".py",
   "mimetype": "text/x-python",
   "name": "python",
   "nbconvert_exporter": "python",
   "pygments_lexer": "ipython3",
   "version": "3.10.8"
  },
  "orig_nbformat": 4,
  "vscode": {
   "interpreter": {
    "hash": "dd6d7257e4f799a522931c63562953b118decf67439d7c27caaf07928a9310b5"
   }
  }
 },
 "nbformat": 4,
 "nbformat_minor": 2
}
